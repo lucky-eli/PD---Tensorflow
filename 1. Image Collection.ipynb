{
 "cells": [
  {
   "cell_type": "markdown",
   "metadata": {},
   "source": [
    "# 1. Import Dependencies"
   ]
  },
  {
   "cell_type": "code",
   "execution_count": 1,
   "metadata": {},
   "outputs": [
    {
     "name": "stdout",
     "output_type": "stream",
     "text": [
      "Requirement already satisfied: opencv-python in d:\\pd - tensorflow object detection\\tfodcourse\\frcnn_tfod\\lib\\site-packages (4.7.0.72)\n",
      "Requirement already satisfied: numpy>=1.21.2 in d:\\pd - tensorflow object detection\\tfodcourse\\frcnn_tfod\\lib\\site-packages (from opencv-python) (1.24.2)\n"
     ]
    }
   ],
   "source": [
    "!pip install opencv-python"
   ]
  },
  {
   "cell_type": "code",
   "execution_count": 2,
   "metadata": {},
   "outputs": [],
   "source": [
    "# Import opencv\n",
    "import cv2 \n",
    "\n",
    "# Import uuid\n",
    "import uuid\n",
    "\n",
    "# Import Operating System\n",
    "import os\n",
    "\n",
    "# Import time\n",
    "import time"
   ]
  },
  {
   "cell_type": "markdown",
   "metadata": {},
   "source": [
    "# 2. Define Images to Collect"
   ]
  },
  {
   "cell_type": "code",
   "execution_count": 3,
   "metadata": {},
   "outputs": [],
   "source": [
    "labels = ['emergency_vehicles', 'large_vehicles', 'medium_vehicles', 'small_vehicles']\n",
    "#number_imgs = 5"
   ]
  },
  {
   "cell_type": "markdown",
   "metadata": {},
   "source": [
    "# 3. Setup Folders "
   ]
  },
  {
   "cell_type": "code",
   "execution_count": 4,
   "metadata": {},
   "outputs": [],
   "source": [
    "IMAGES_PATH = os.path.join('Tensorflow', 'workspace', 'images', 'collectedimages')"
   ]
  },
  {
   "cell_type": "code",
   "execution_count": 5,
   "metadata": {},
   "outputs": [],
   "source": [
    "if not os.path.exists(IMAGES_PATH):\n",
    "    if os.name == 'posix':\n",
    "        !mkdir -p {IMAGES_PATH}\n",
    "    if os.name == 'nt':\n",
    "         !mkdir {IMAGES_PATH}\n",
    "for label in labels:\n",
    "    path = os.path.join(IMAGES_PATH, label)\n",
    "    if not os.path.exists(path):\n",
    "        !mkdir {path}"
   ]
  },
  {
   "cell_type": "markdown",
   "metadata": {},
   "source": [
    "# 4. Capture Images"
   ]
  },
  {
   "cell_type": "code",
   "execution_count": 18,
   "metadata": {},
   "outputs": [
    {
     "name": "stdout",
     "output_type": "stream",
     "text": [
      "Collecting images for thumbsup\n",
      "Collecting image 0\n",
      "Collecting image 1\n",
      "Collecting image 2\n",
      "Collecting image 3\n",
      "Collecting image 4\n"
     ]
    }
   ],
   "source": [
    "for label in labels:\n",
    "    cap = cv2.VideoCapture(0)\n",
    "    print('Collecting images for {}'.format(label))\n",
    "    time.sleep(5)\n",
    "    for imgnum in range(number_imgs):\n",
    "        print('Collecting image {}'.format(imgnum))\n",
    "        ret, frame = cap.read()\n",
    "        imgname = os.path.join(IMAGES_PATH,label,label+'.'+'{}.jpg'.format(str(uuid.uuid1())))\n",
    "        cv2.imwrite(imgname, frame)\n",
    "        cv2.imshow('frame', frame)\n",
    "        time.sleep(2)\n",
    "\n",
    "        if cv2.waitKey(1) & 0xFF == ord('q'):\n",
    "            break\n",
    "cap.release()\n",
    "cv2.destroyAllWindows()"
   ]
  },
  {
   "cell_type": "markdown",
   "metadata": {},
   "source": [
    "# 5. Image Labelling"
   ]
  },
  {
   "cell_type": "code",
   "execution_count": 8,
   "metadata": {
    "scrolled": true
   },
   "outputs": [
    {
     "name": "stdout",
     "output_type": "stream",
     "text": [
      "Requirement already satisfied: pyqt5 in d:\\pd - tensorflow object detection\\tfodcourse\\frcnn_tfod\\lib\\site-packages (5.15.9)\n",
      "Requirement already satisfied: lxml in d:\\pd - tensorflow object detection\\tfodcourse\\frcnn_tfod\\lib\\site-packages (4.9.2)\n",
      "Requirement already satisfied: PyQt5-sip<13,>=12.11 in d:\\pd - tensorflow object detection\\tfodcourse\\frcnn_tfod\\lib\\site-packages (from pyqt5) (12.11.1)\n",
      "Requirement already satisfied: PyQt5-Qt5>=5.15.2 in d:\\pd - tensorflow object detection\\tfodcourse\\frcnn_tfod\\lib\\site-packages (from pyqt5) (5.15.2)\n"
     ]
    }
   ],
   "source": [
    "!pip install --upgrade pyqt5 lxml"
   ]
  },
  {
   "cell_type": "code",
   "execution_count": 9,
   "metadata": {},
   "outputs": [],
   "source": [
    "LABELIMG_PATH = os.path.join('Tensorflow', 'labelimg')"
   ]
  },
  {
   "cell_type": "code",
   "execution_count": 10,
   "metadata": {},
   "outputs": [],
   "source": [
    "if not os.path.exists(LABELIMG_PATH):\n",
    "    !mkdir {LABELIMG_PATH}\n",
    "    !git clone https://github.com/tzutalin/labelImg {LABELIMG_PATH}"
   ]
  },
  {
   "cell_type": "code",
   "execution_count": 11,
   "metadata": {},
   "outputs": [],
   "source": [
    "if os.name == 'posix':\n",
    "    !make qt5py3\n",
    "if os.name =='nt':\n",
    "    !cd {LABELIMG_PATH} && pyrcc5 -o libs/resources.py resources.qrc"
   ]
  },
  {
   "cell_type": "code",
   "execution_count": 12,
   "metadata": {},
   "outputs": [
    {
     "name": "stdout",
     "output_type": "stream",
     "text": [
      "Image:D:\\PD - Tensorflow Object Detection\\TFODCourse\\Tensorflow\\workspace\\images\\Datasets (Final)\\Augmented\\Small-Vehicles\\Tricycle\\high_contrast_small_vehicle (200).png -> Annotation:D:/PD - Tensorflow Object Detection/TFODCourse/Tensorflow/workspace/images/Datasets (Final)/Augmented/Small-Vehicles/Tricycle\\high_contrast_small_vehicle (200).xml\n",
      "Image:D:\\PD - Tensorflow Object Detection\\TFODCourse\\Tensorflow\\workspace\\images\\Datasets (Final)\\Augmented\\Small-Vehicles\\Tricycle\\high_contrast_small_vehicle (201).png -> Annotation:D:/PD - Tensorflow Object Detection/TFODCourse/Tensorflow/workspace/images/Datasets (Final)/Augmented/Small-Vehicles/Tricycle\\high_contrast_small_vehicle (201).xml\n",
      "Image:D:\\PD - Tensorflow Object Detection\\TFODCourse\\Tensorflow\\workspace\\images\\Datasets (Final)\\Augmented\\Small-Vehicles\\Tricycle\\high_contrast_small_vehicle (202).png -> Annotation:D:/PD - Tensorflow Object Detection/TFODCourse/Tensorflow/workspace/images/Datasets (Final)/Augmented/Small-Vehicles/Tricycle\\high_contrast_small_vehicle (202).xml\n",
      "Image:D:\\PD - Tensorflow Object Detection\\TFODCourse\\Tensorflow\\workspace\\images\\Datasets (Final)\\Augmented\\Small-Vehicles\\Tricycle\\high_contrast_small_vehicle (203).png -> Annotation:D:/PD - Tensorflow Object Detection/TFODCourse/Tensorflow/workspace/images/Datasets (Final)/Augmented/Small-Vehicles/Tricycle\\high_contrast_small_vehicle (203).xml\n",
      "Image:D:\\PD - Tensorflow Object Detection\\TFODCourse\\Tensorflow\\workspace\\images\\Datasets (Final)\\Augmented\\Small-Vehicles\\Tricycle\\high_contrast_small_vehicle (204).png -> Annotation:D:/PD - Tensorflow Object Detection/TFODCourse/Tensorflow/workspace/images/Datasets (Final)/Augmented/Small-Vehicles/Tricycle\\high_contrast_small_vehicle (204).xml\n",
      "Image:D:\\PD - Tensorflow Object Detection\\TFODCourse\\Tensorflow\\workspace\\images\\Datasets (Final)\\Augmented\\Small-Vehicles\\Tricycle\\high_contrast_small_vehicle (205).png -> Annotation:D:/PD - Tensorflow Object Detection/TFODCourse/Tensorflow/workspace/images/Datasets (Final)/Augmented/Small-Vehicles/Tricycle\\high_contrast_small_vehicle (205).xml\n",
      "Image:D:\\PD - Tensorflow Object Detection\\TFODCourse\\Tensorflow\\workspace\\images\\Datasets (Final)\\Augmented\\Small-Vehicles\\Tricycle\\high_contrast_small_vehicle (206).png -> Annotation:D:/PD - Tensorflow Object Detection/TFODCourse/Tensorflow/workspace/images/Datasets (Final)/Augmented/Small-Vehicles/Tricycle\\high_contrast_small_vehicle (206).xml\n",
      "Image:D:\\PD - Tensorflow Object Detection\\TFODCourse\\Tensorflow\\workspace\\images\\Datasets (Final)\\Augmented\\Small-Vehicles\\Tricycle\\high_contrast_small_vehicle (207).png -> Annotation:D:/PD - Tensorflow Object Detection/TFODCourse/Tensorflow/workspace/images/Datasets (Final)/Augmented/Small-Vehicles/Tricycle\\high_contrast_small_vehicle (207).xml\n",
      "Image:D:\\PD - Tensorflow Object Detection\\TFODCourse\\Tensorflow\\workspace\\images\\Datasets (Final)\\Augmented\\Small-Vehicles\\Tricycle\\high_contrast_small_vehicle (208).png -> Annotation:D:/PD - Tensorflow Object Detection/TFODCourse/Tensorflow/workspace/images/Datasets (Final)/Augmented/Small-Vehicles/Tricycle\\high_contrast_small_vehicle (208).xml\n",
      "Image:D:\\PD - Tensorflow Object Detection\\TFODCourse\\Tensorflow\\workspace\\images\\Datasets (Final)\\Augmented\\Small-Vehicles\\Tricycle\\high_contrast_small_vehicle (209).png -> Annotation:D:/PD - Tensorflow Object Detection/TFODCourse/Tensorflow/workspace/images/Datasets (Final)/Augmented/Small-Vehicles/Tricycle\\high_contrast_small_vehicle (209).xml\n",
      "Image:D:\\PD - Tensorflow Object Detection\\TFODCourse\\Tensorflow\\workspace\\images\\Datasets (Final)\\Augmented\\Small-Vehicles\\Tricycle\\high_contrast_small_vehicle (210).png -> Annotation:D:/PD - Tensorflow Object Detection/TFODCourse/Tensorflow/workspace/images/Datasets (Final)/Augmented/Small-Vehicles/Tricycle\\high_contrast_small_vehicle (210).xml\n",
      "Image:D:\\PD - Tensorflow Object Detection\\TFODCourse\\Tensorflow\\workspace\\images\\Datasets (Final)\\Augmented\\Small-Vehicles\\Tricycle\\high_contrast_small_vehicle (211).png -> Annotation:D:/PD - Tensorflow Object Detection/TFODCourse/Tensorflow/workspace/images/Datasets (Final)/Augmented/Small-Vehicles/Tricycle\\high_contrast_small_vehicle (211).xml\n",
      "Image:D:\\PD - Tensorflow Object Detection\\TFODCourse\\Tensorflow\\workspace\\images\\Datasets (Final)\\Augmented\\Small-Vehicles\\Tricycle\\high_contrast_small_vehicle (212).png -> Annotation:D:/PD - Tensorflow Object Detection/TFODCourse/Tensorflow/workspace/images/Datasets (Final)/Augmented/Small-Vehicles/Tricycle\\high_contrast_small_vehicle (212).xml\n",
      "Image:D:\\PD - Tensorflow Object Detection\\TFODCourse\\Tensorflow\\workspace\\images\\Datasets (Final)\\Augmented\\Small-Vehicles\\Tricycle\\high_contrast_small_vehicle (211).png -> Annotation:D:/PD - Tensorflow Object Detection/TFODCourse/Tensorflow/workspace/images/Datasets (Final)/Augmented/Small-Vehicles/Tricycle\\high_contrast_small_vehicle (211).xml\n",
      "Image:D:\\PD - Tensorflow Object Detection\\TFODCourse\\Tensorflow\\workspace\\images\\Datasets (Final)\\Augmented\\Small-Vehicles\\Tricycle\\high_contrast_small_vehicle (212).png -> Annotation:D:/PD - Tensorflow Object Detection/TFODCourse/Tensorflow/workspace/images/Datasets (Final)/Augmented/Small-Vehicles/Tricycle\\high_contrast_small_vehicle (212).xml\n",
      "Image:D:\\PD - Tensorflow Object Detection\\TFODCourse\\Tensorflow\\workspace\\images\\Datasets (Final)\\Augmented\\Small-Vehicles\\Tricycle\\high_contrast_small_vehicle (213).png -> Annotation:D:/PD - Tensorflow Object Detection/TFODCourse/Tensorflow/workspace/images/Datasets (Final)/Augmented/Small-Vehicles/Tricycle\\high_contrast_small_vehicle (213).xml\n",
      "Image:D:\\PD - Tensorflow Object Detection\\TFODCourse\\Tensorflow\\workspace\\images\\Datasets (Final)\\Augmented\\Small-Vehicles\\Tricycle\\high_contrast_small_vehicle (214).png -> Annotation:D:/PD - Tensorflow Object Detection/TFODCourse/Tensorflow/workspace/images/Datasets (Final)/Augmented/Small-Vehicles/Tricycle\\high_contrast_small_vehicle (214).xml\n",
      "Image:D:\\PD - Tensorflow Object Detection\\TFODCourse\\Tensorflow\\workspace\\images\\Datasets (Final)\\Augmented\\Small-Vehicles\\Tricycle\\high_contrast_small_vehicle (215).png -> Annotation:D:/PD - Tensorflow Object Detection/TFODCourse/Tensorflow/workspace/images/Datasets (Final)/Augmented/Small-Vehicles/Tricycle\\high_contrast_small_vehicle (215).xml\n",
      "Image:D:\\PD - Tensorflow Object Detection\\TFODCourse\\Tensorflow\\workspace\\images\\Datasets (Final)\\Augmented\\Small-Vehicles\\Tricycle\\high_contrast_small_vehicle (216).png -> Annotation:D:/PD - Tensorflow Object Detection/TFODCourse/Tensorflow/workspace/images/Datasets (Final)/Augmented/Small-Vehicles/Tricycle\\high_contrast_small_vehicle (216).xml\n",
      "Image:D:\\PD - Tensorflow Object Detection\\TFODCourse\\Tensorflow\\workspace\\images\\Datasets (Final)\\Augmented\\Small-Vehicles\\Tricycle\\high_contrast_small_vehicle (217).png -> Annotation:D:/PD - Tensorflow Object Detection/TFODCourse/Tensorflow/workspace/images/Datasets (Final)/Augmented/Small-Vehicles/Tricycle\\high_contrast_small_vehicle (217).xml\n",
      "Image:D:\\PD - Tensorflow Object Detection\\TFODCourse\\Tensorflow\\workspace\\images\\Datasets (Final)\\Augmented\\Small-Vehicles\\Tricycle\\high_contrast_small_vehicle (218).png -> Annotation:D:/PD - Tensorflow Object Detection/TFODCourse/Tensorflow/workspace/images/Datasets (Final)/Augmented/Small-Vehicles/Tricycle\\high_contrast_small_vehicle (218).xml\n",
      "Image:D:\\PD - Tensorflow Object Detection\\TFODCourse\\Tensorflow\\workspace\\images\\Datasets (Final)\\Augmented\\Small-Vehicles\\Tricycle\\high_contrast_small_vehicle (219).png -> Annotation:D:/PD - Tensorflow Object Detection/TFODCourse/Tensorflow/workspace/images/Datasets (Final)/Augmented/Small-Vehicles/Tricycle\\high_contrast_small_vehicle (219).xml\n",
      "Image:D:\\PD - Tensorflow Object Detection\\TFODCourse\\Tensorflow\\workspace\\images\\Datasets (Final)\\Augmented\\Small-Vehicles\\Tricycle\\high_contrast_small_vehicle (218).png -> Annotation:D:/PD - Tensorflow Object Detection/TFODCourse/Tensorflow/workspace/images/Datasets (Final)/Augmented/Small-Vehicles/Tricycle\\high_contrast_small_vehicle (218).xml\n",
      "Image:D:\\PD - Tensorflow Object Detection\\TFODCourse\\Tensorflow\\workspace\\images\\Datasets (Final)\\Augmented\\Small-Vehicles\\Tricycle\\high_contrast_small_vehicle (221).png -> Annotation:D:/PD - Tensorflow Object Detection/TFODCourse/Tensorflow/workspace/images/Datasets (Final)/Augmented/Small-Vehicles/Tricycle\\high_contrast_small_vehicle (221).xml\n",
      "Image:D:\\PD - Tensorflow Object Detection\\TFODCourse\\Tensorflow\\workspace\\images\\Datasets (Final)\\Augmented\\Small-Vehicles\\Tricycle\\high_contrast_small_vehicle (220).png -> Annotation:D:/PD - Tensorflow Object Detection/TFODCourse/Tensorflow/workspace/images/Datasets (Final)/Augmented/Small-Vehicles/Tricycle\\high_contrast_small_vehicle (220).xml\n",
      "Image:D:\\PD - Tensorflow Object Detection\\TFODCourse\\Tensorflow\\workspace\\images\\Datasets (Final)\\Augmented\\Small-Vehicles\\Tricycle\\high_contrast_small_vehicle (221).png -> Annotation:D:/PD - Tensorflow Object Detection/TFODCourse/Tensorflow/workspace/images/Datasets (Final)/Augmented/Small-Vehicles/Tricycle\\high_contrast_small_vehicle (221).xml\n",
      "Image:D:\\PD - Tensorflow Object Detection\\TFODCourse\\Tensorflow\\workspace\\images\\Datasets (Final)\\Augmented\\Small-Vehicles\\Tricycle\\high_contrast_small_vehicle (222).png -> Annotation:D:/PD - Tensorflow Object Detection/TFODCourse/Tensorflow/workspace/images/Datasets (Final)/Augmented/Small-Vehicles/Tricycle\\high_contrast_small_vehicle (222).xml\n",
      "Image:D:\\PD - Tensorflow Object Detection\\TFODCourse\\Tensorflow\\workspace\\images\\Datasets (Final)\\Augmented\\Small-Vehicles\\Tricycle\\high_contrast_small_vehicle (222).png -> Annotation:D:/PD - Tensorflow Object Detection/TFODCourse/Tensorflow/workspace/images/Datasets (Final)/Augmented/Small-Vehicles/Tricycle\\high_contrast_small_vehicle (222).xml\n",
      "Image:D:\\PD - Tensorflow Object Detection\\TFODCourse\\Tensorflow\\workspace\\images\\Datasets (Final)\\Augmented\\Small-Vehicles\\Tricycle\\high_contrast_small_vehicle (221).png -> Annotation:D:/PD - Tensorflow Object Detection/TFODCourse/Tensorflow/workspace/images/Datasets (Final)/Augmented/Small-Vehicles/Tricycle\\high_contrast_small_vehicle (221).xml\n",
      "Image:D:\\PD - Tensorflow Object Detection\\TFODCourse\\Tensorflow\\workspace\\images\\Datasets (Final)\\Augmented\\Small-Vehicles\\Tricycle\\high_contrast_small_vehicle (220).png -> Annotation:D:/PD - Tensorflow Object Detection/TFODCourse/Tensorflow/workspace/images/Datasets (Final)/Augmented/Small-Vehicles/Tricycle\\high_contrast_small_vehicle (220).xml\n",
      "Image:D:\\PD - Tensorflow Object Detection\\TFODCourse\\Tensorflow\\workspace\\images\\Datasets (Final)\\Augmented\\Small-Vehicles\\Tricycle\\high_contrast_small_vehicle (219).png -> Annotation:D:/PD - Tensorflow Object Detection/TFODCourse/Tensorflow/workspace/images/Datasets (Final)/Augmented/Small-Vehicles/Tricycle\\high_contrast_small_vehicle (219).xml\n",
      "Image:D:\\PD - Tensorflow Object Detection\\TFODCourse\\Tensorflow\\workspace\\images\\Datasets (Final)\\Augmented\\Small-Vehicles\\Tricycle\\high_contrast_small_vehicle (218).png -> Annotation:D:/PD - Tensorflow Object Detection/TFODCourse/Tensorflow/workspace/images/Datasets (Final)/Augmented/Small-Vehicles/Tricycle\\high_contrast_small_vehicle (218).xml\n",
      "Image:D:\\PD - Tensorflow Object Detection\\TFODCourse\\Tensorflow\\workspace\\images\\Datasets (Final)\\Augmented\\Small-Vehicles\\Tricycle\\high_contrast_small_vehicle (217).png -> Annotation:D:/PD - Tensorflow Object Detection/TFODCourse/Tensorflow/workspace/images/Datasets (Final)/Augmented/Small-Vehicles/Tricycle\\high_contrast_small_vehicle (217).xml\n",
      "Image:D:\\PD - Tensorflow Object Detection\\TFODCourse\\Tensorflow\\workspace\\images\\Datasets (Final)\\Augmented\\Small-Vehicles\\Tricycle\\high_contrast_small_vehicle (216).png -> Annotation:D:/PD - Tensorflow Object Detection/TFODCourse/Tensorflow/workspace/images/Datasets (Final)/Augmented/Small-Vehicles/Tricycle\\high_contrast_small_vehicle (216).xml\n",
      "Image:D:\\PD - Tensorflow Object Detection\\TFODCourse\\Tensorflow\\workspace\\images\\Datasets (Final)\\Augmented\\Small-Vehicles\\Tricycle\\high_contrast_small_vehicle (215).png -> Annotation:D:/PD - Tensorflow Object Detection/TFODCourse/Tensorflow/workspace/images/Datasets (Final)/Augmented/Small-Vehicles/Tricycle\\high_contrast_small_vehicle (215).xml\n",
      "Image:D:\\PD - Tensorflow Object Detection\\TFODCourse\\Tensorflow\\workspace\\images\\Datasets (Final)\\Augmented\\Small-Vehicles\\Tricycle\\high_contrast_small_vehicle (214).png -> Annotation:D:/PD - Tensorflow Object Detection/TFODCourse/Tensorflow/workspace/images/Datasets (Final)/Augmented/Small-Vehicles/Tricycle\\high_contrast_small_vehicle (214).xml\n",
      "Image:D:\\PD - Tensorflow Object Detection\\TFODCourse\\Tensorflow\\workspace\\images\\Datasets (Final)\\Augmented\\Small-Vehicles\\Tricycle\\high_contrast_small_vehicle (215).png -> Annotation:D:/PD - Tensorflow Object Detection/TFODCourse/Tensorflow/workspace/images/Datasets (Final)/Augmented/Small-Vehicles/Tricycle\\high_contrast_small_vehicle (215).xml\n",
      "Image:D:\\PD - Tensorflow Object Detection\\TFODCourse\\Tensorflow\\workspace\\images\\Datasets (Final)\\Augmented\\Small-Vehicles\\Tricycle\\high_contrast_small_vehicle (216).png -> Annotation:D:/PD - Tensorflow Object Detection/TFODCourse/Tensorflow/workspace/images/Datasets (Final)/Augmented/Small-Vehicles/Tricycle\\high_contrast_small_vehicle (216).xml\n",
      "Image:D:\\PD - Tensorflow Object Detection\\TFODCourse\\Tensorflow\\workspace\\images\\Datasets (Final)\\Augmented\\Small-Vehicles\\Tricycle\\high_contrast_small_vehicle (214).png -> Annotation:D:/PD - Tensorflow Object Detection/TFODCourse/Tensorflow/workspace/images/Datasets (Final)/Augmented/Small-Vehicles/Tricycle\\high_contrast_small_vehicle (214).xml\n",
      "Image:D:\\PD - Tensorflow Object Detection\\TFODCourse\\Tensorflow\\workspace\\images\\Datasets (Final)\\Augmented\\Small-Vehicles\\Tricycle\\high_contrast_small_vehicle (215).png -> Annotation:D:/PD - Tensorflow Object Detection/TFODCourse/Tensorflow/workspace/images/Datasets (Final)/Augmented/Small-Vehicles/Tricycle\\high_contrast_small_vehicle (215).xml\n",
      "Image:D:\\PD - Tensorflow Object Detection\\TFODCourse\\Tensorflow\\workspace\\images\\Datasets (Final)\\Augmented\\Small-Vehicles\\Tricycle\\high_contrast_small_vehicle (213).png -> Annotation:D:/PD - Tensorflow Object Detection/TFODCourse/Tensorflow/workspace/images/Datasets (Final)/Augmented/Small-Vehicles/Tricycle\\high_contrast_small_vehicle (213).xml\n",
      "Image:D:\\PD - Tensorflow Object Detection\\TFODCourse\\Tensorflow\\workspace\\images\\Datasets (Final)\\Augmented\\Small-Vehicles\\Tricycle\\high_contrast_small_vehicle (212).png -> Annotation:D:/PD - Tensorflow Object Detection/TFODCourse/Tensorflow/workspace/images/Datasets (Final)/Augmented/Small-Vehicles/Tricycle\\high_contrast_small_vehicle (212).xml\n",
      "Image:D:\\PD - Tensorflow Object Detection\\TFODCourse\\Tensorflow\\workspace\\images\\Datasets (Final)\\Augmented\\Small-Vehicles\\Tricycle\\high_contrast_small_vehicle (211).png -> Annotation:D:/PD - Tensorflow Object Detection/TFODCourse/Tensorflow/workspace/images/Datasets (Final)/Augmented/Small-Vehicles/Tricycle\\high_contrast_small_vehicle (211).xml\n",
      "Image:D:\\PD - Tensorflow Object Detection\\TFODCourse\\Tensorflow\\workspace\\images\\Datasets (Final)\\Augmented\\Small-Vehicles\\Tricycle\\high_contrast_small_vehicle (210).png -> Annotation:D:/PD - Tensorflow Object Detection/TFODCourse/Tensorflow/workspace/images/Datasets (Final)/Augmented/Small-Vehicles/Tricycle\\high_contrast_small_vehicle (210).xml\n",
      "Image:D:\\PD - Tensorflow Object Detection\\TFODCourse\\Tensorflow\\workspace\\images\\Datasets (Final)\\Augmented\\Small-Vehicles\\Tricycle\\high_contrast_small_vehicle (209).png -> Annotation:D:/PD - Tensorflow Object Detection/TFODCourse/Tensorflow/workspace/images/Datasets (Final)/Augmented/Small-Vehicles/Tricycle\\high_contrast_small_vehicle (209).xml\n",
      "Image:D:\\PD - Tensorflow Object Detection\\TFODCourse\\Tensorflow\\workspace\\images\\Datasets (Final)\\Augmented\\Small-Vehicles\\Tricycle\\high_contrast_small_vehicle (208).png -> Annotation:D:/PD - Tensorflow Object Detection/TFODCourse/Tensorflow/workspace/images/Datasets (Final)/Augmented/Small-Vehicles/Tricycle\\high_contrast_small_vehicle (208).xml\n",
      "Image:D:\\PD - Tensorflow Object Detection\\TFODCourse\\Tensorflow\\workspace\\images\\Datasets (Final)\\Augmented\\Small-Vehicles\\Tricycle\\high_contrast_small_vehicle (207).png -> Annotation:D:/PD - Tensorflow Object Detection/TFODCourse/Tensorflow/workspace/images/Datasets (Final)/Augmented/Small-Vehicles/Tricycle\\high_contrast_small_vehicle (207).xml\n",
      "Image:D:\\PD - Tensorflow Object Detection\\TFODCourse\\Tensorflow\\workspace\\images\\Datasets (Final)\\Augmented\\Small-Vehicles\\Tricycle\\high_contrast_small_vehicle (206).png -> Annotation:D:/PD - Tensorflow Object Detection/TFODCourse/Tensorflow/workspace/images/Datasets (Final)/Augmented/Small-Vehicles/Tricycle\\high_contrast_small_vehicle (206).xml\n",
      "Image:D:\\PD - Tensorflow Object Detection\\TFODCourse\\Tensorflow\\workspace\\images\\Datasets (Final)\\Augmented\\Small-Vehicles\\Tricycle\\high_contrast_small_vehicle (205).png -> Annotation:D:/PD - Tensorflow Object Detection/TFODCourse/Tensorflow/workspace/images/Datasets (Final)/Augmented/Small-Vehicles/Tricycle\\high_contrast_small_vehicle (205).xml\n",
      "Image:D:\\PD - Tensorflow Object Detection\\TFODCourse\\Tensorflow\\workspace\\images\\Datasets (Final)\\Augmented\\Small-Vehicles\\Tricycle\\high_contrast_small_vehicle (204).png -> Annotation:D:/PD - Tensorflow Object Detection/TFODCourse/Tensorflow/workspace/images/Datasets (Final)/Augmented/Small-Vehicles/Tricycle\\high_contrast_small_vehicle (204).xml\n",
      "Image:D:\\PD - Tensorflow Object Detection\\TFODCourse\\Tensorflow\\workspace\\images\\Datasets (Final)\\Augmented\\Small-Vehicles\\Tricycle\\high_contrast_small_vehicle (203).png -> Annotation:D:/PD - Tensorflow Object Detection/TFODCourse/Tensorflow/workspace/images/Datasets (Final)/Augmented/Small-Vehicles/Tricycle\\high_contrast_small_vehicle (203).xml\n",
      "Image:D:\\PD - Tensorflow Object Detection\\TFODCourse\\Tensorflow\\workspace\\images\\Datasets (Final)\\Augmented\\Small-Vehicles\\Tricycle\\high_contrast_small_vehicle (202).png -> Annotation:D:/PD - Tensorflow Object Detection/TFODCourse/Tensorflow/workspace/images/Datasets (Final)/Augmented/Small-Vehicles/Tricycle\\high_contrast_small_vehicle (202).xml\n",
      "Image:D:\\PD - Tensorflow Object Detection\\TFODCourse\\Tensorflow\\workspace\\images\\Datasets (Final)\\Augmented\\Small-Vehicles\\Tricycle\\high_contrast_small_vehicle (201).png -> Annotation:D:/PD - Tensorflow Object Detection/TFODCourse/Tensorflow/workspace/images/Datasets (Final)/Augmented/Small-Vehicles/Tricycle\\high_contrast_small_vehicle (201).xml\n",
      "Image:D:\\PD - Tensorflow Object Detection\\TFODCourse\\Tensorflow\\workspace\\images\\Datasets (Final)\\Augmented\\Small-Vehicles\\Tricycle\\high_contrast_small_vehicle (200).png -> Annotation:D:/PD - Tensorflow Object Detection/TFODCourse/Tensorflow/workspace/images/Datasets (Final)/Augmented/Small-Vehicles/Tricycle\\high_contrast_small_vehicle (200).xml\n"
     ]
    }
   ],
   "source": [
    "!cd {LABELIMG_PATH} && python labelImg.py"
   ]
  },
  {
   "cell_type": "markdown",
   "metadata": {},
   "source": [
    "# 6. Move them into a Training and Testing Partition"
   ]
  },
  {
   "cell_type": "markdown",
   "metadata": {},
   "source": [
    "# 6. Move them into a Training and Testing Partition"
   ]
  },
  {
   "cell_type": "markdown",
   "metadata": {},
   "source": [
    "# OPTIONAL - 7. Compress them for Colab Training"
   ]
  },
  {
   "cell_type": "code",
   "execution_count": 13,
   "metadata": {},
   "outputs": [],
   "source": [
    "TRAIN_PATH = os.path.join('Tensorflow', 'workspace', 'images', 'train')\n",
    "TEST_PATH =os.path.join('Tensorflow', 'workspace', 'images', 'test')\n",
    "ARCHIVE_PATH = os.path.join('Tensorflow', 'workspace', 'images', 'archive.tar.gz')"
   ]
  },
  {
   "cell_type": "code",
   "execution_count": 14,
   "metadata": {},
   "outputs": [],
   "source": [
    "!tar -czf {ARCHIVE_PATH} {TRAIN_PATH} {TEST_PATH}"
   ]
  },
  {
   "cell_type": "code",
   "execution_count": null,
   "metadata": {},
   "outputs": [],
   "source": []
  }
 ],
 "metadata": {
  "kernelspec": {
   "display_name": "frcnn_tfod",
   "language": "python",
   "name": "frcnn_tfod"
  },
  "language_info": {
   "codemirror_mode": {
    "name": "ipython",
    "version": 3
   },
   "file_extension": ".py",
   "mimetype": "text/x-python",
   "name": "python",
   "nbconvert_exporter": "python",
   "pygments_lexer": "ipython3",
   "version": "3.11.0"
  }
 },
 "nbformat": 4,
 "nbformat_minor": 2
}
